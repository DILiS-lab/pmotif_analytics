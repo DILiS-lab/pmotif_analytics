{
 "cells": [
  {
   "cell_type": "code",
   "execution_count": 1,
   "id": "2b98ce33",
   "metadata": {},
   "outputs": [],
   "source": [
    "import networkx as nx\n",
    "import os\n",
    "from pathlib import Path\n",
    "\n",
    "ppi_networks_dir = Path(\"/home/timgarrels/masterthesis/datasets\") / \"some_PPI_networks\"\n"
   ]
  },
  {
   "cell_type": "code",
   "execution_count": 2,
   "id": "2d039d82",
   "metadata": {},
   "outputs": [],
   "source": [
    "def parse_ppi_tsv(tsv):\n",
    "    return nx.read_edgelist(\n",
    "        tsv,\n",
    "        delimiter=\"\\t\",\n",
    "        data=[\n",
    "            (\"node1_string_id\", str),\n",
    "            (\"node2_string_id\", str),\n",
    "            (\"neighborhood_on_chromosome\", float),\n",
    "            (\"gene_fusion\", float),\n",
    "            (\"phylogenetic_cooccurrence\", float),\n",
    "            (\"homology\", float),\n",
    "            (\"coexpression\", float),\n",
    "            (\"experimentally_determined_interaction\", float),\n",
    "            (\"database_annotated\", float),\n",
    "            (\"automated_textmining\", float),\n",
    "            (\"combined_score\", float),\n",
    "        ],\n",
    "    )"
   ]
  },
  {
   "cell_type": "code",
   "execution_count": 3,
   "id": "20c01bd3",
   "metadata": {},
   "outputs": [],
   "source": [
    "networks = {\n",
    "    n: parse_ppi_tsv(ppi_networks_dir / n)\n",
    "    for n in os.listdir(ppi_networks_dir)\n",
    "    if \"cancer\" in n or \"brain\" in n\n",
    "}"
   ]
  },
  {
   "cell_type": "code",
   "execution_count": 4,
   "id": "f2837d73",
   "metadata": {},
   "outputs": [
    {
     "data": {
      "text/plain": [
       "{'human_cancer_string_interactions_short.tsv': <networkx.classes.graph.Graph at 0x7f97ccda3d00>,\n",
       " 'human_brain_development_string_interactions_short.tsv': <networkx.classes.graph.Graph at 0x7f97ccda3880>}"
      ]
     },
     "execution_count": 4,
     "metadata": {},
     "output_type": "execute_result"
    }
   ],
   "source": [
    "networks"
   ]
  },
  {
   "cell_type": "code",
   "execution_count": 5,
   "id": "4a648933",
   "metadata": {},
   "outputs": [],
   "source": [
    "def get_node_mapping(g, shift:int = 1):\n",
    "    return {n: i + 1 for i, n in enumerate(g.nodes)}\n"
   ]
  },
  {
   "cell_type": "code",
   "execution_count": 8,
   "id": "9e852b51",
   "metadata": {},
   "outputs": [
    {
     "data": {
      "text/plain": [
       "('AFF1', 'EML4', 'CREBBP')"
      ]
     },
     "execution_count": 8,
     "metadata": {},
     "output_type": "execute_result"
    }
   ],
   "source": [
    "mapping = get_node_mapping(networks['human_cancer_string_interactions_short.tsv'])\n",
    "assert len(list(mapping.values())) == len(set(mapping.values())), \"Mapping not unique!\"\n",
    "\n",
    "reverse_lookup = {v: k for k, v in mapping.items()}\n",
    "\n",
    "reverse_lookup[145], reverse_lookup[77], reverse_lookup[31]"
   ]
  },
  {
   "cell_type": "code",
   "execution_count": 7,
   "id": "2602c896",
   "metadata": {},
   "outputs": [],
   "source": [
    "mapping = get_node_mapping(networks['human_brain_development_string_interactions_short.tsv'])\n",
    "assert len(list(mapping.values())) == len(set(mapping.values())), \"Mapping not unique!\"\n",
    "\n",
    "reverse_lookup = {v: k for k, v in mapping.items()}\n",
    "\n",
    "# reverse_lookup[405], reverse_lookup[103]"
   ]
  }
 ],
 "metadata": {
  "kernelspec": {
   "display_name": "masterthesis",
   "language": "python",
   "name": "masterthesis"
  },
  "language_info": {
   "codemirror_mode": {
    "name": "ipython",
    "version": 3
   },
   "file_extension": ".py",
   "mimetype": "text/x-python",
   "name": "python",
   "nbconvert_exporter": "python",
   "pygments_lexer": "ipython3",
   "version": "3.10.6"
  }
 },
 "nbformat": 4,
 "nbformat_minor": 5
}
