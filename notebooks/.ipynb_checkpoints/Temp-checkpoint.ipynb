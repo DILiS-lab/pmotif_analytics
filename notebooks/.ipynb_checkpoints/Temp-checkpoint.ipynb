{
 "cells": [
  {
   "cell_type": "code",
   "execution_count": 1,
   "id": "470ea425",
   "metadata": {},
   "outputs": [],
   "source": [
    "import json\n",
    "from tqdm import tqdm\n",
    "from pathlib import Path\n",
    "\n",
    "\n",
    "original = Path(\"/home/timgarrels/Projects/masterthesis/motif_position_tooling/output/data_collection_out/kaggle_star_wars/kaggle_star_wars.edgelist_motifs/3/positional_data\")\n",
    "changed = Path(\"/home/timgarrels/Projects/masterthesis/motif_position_tooling/output/data_collection_out/TEST/kaggle_star_wars/kaggle_star_wars.edgelist_motifs/3/pmetrics\")"
   ]
  },
  {
   "cell_type": "code",
   "execution_count": 2,
   "id": "d3aff247",
   "metadata": {},
   "outputs": [],
   "source": [
    "# Original\n",
    "with open(original / \"anchor_node_shortest_paths\", \"r\") as f:\n",
    "    f.readline()\n",
    "    original_shortest_paths = {}\n",
    "    for l in f:\n",
    "        k , *json_parts = l.split(\" \")\n",
    "        original_shortest_paths[k] = json.loads(\" \".join(json_parts))\n",
    "    \n",
    "with open(original / \"anchor_nodes\", \"r\") as f:\n",
    "    f.readline()\n",
    "    original_anchor_nodes = [json.loads(l) for l in f]\n",
    "\n",
    "with open(original / \"graph_modules\", \"r\") as f:\n",
    "    f.readline()\n",
    "    original_graph_modules = [l.strip().split(\" \") for l in f]\n",
    "\n",
    "with open(original / \"graphlet_metrics\", \"r\") as f:\n",
    "    f.readline()\n",
    "    original_graphlet_metrics = [json.loads(l) for l in f]\n"
   ]
  },
  {
   "cell_type": "code",
   "execution_count": 3,
   "id": "125ba6e6",
   "metadata": {},
   "outputs": [],
   "source": [
    "# Changed\n",
    "with open(changed / \"pAnchorNodeDistance\" / \"pre_compute\" / \"anchor_nodes\", \"r\") as f:\n",
    "    changed_anchor_nodes = json.load(f)\n",
    "    \n",
    "with open(changed / \"pAnchorNodeDistance\" / \"pre_compute\" / \"nodes_shortest_path_lookup\", \"r\") as f:\n",
    "    changed_shortest_paths = json.load(f)\n",
    "\n",
    "with open(changed / \"pAnchorNodeDistance\" / \"graphlet_metrics\", \"r\") as f:\n",
    "    f.readline()\n",
    "    changed_pAnchorNode = [json.loads(l) for l in f]\n",
    "    \n",
    "    \n",
    "with open(changed / \"pDegree\" / \"graphlet_metrics\", \"r\") as f:\n",
    "    f.readline()\n",
    "    changed_pDegree = [json.loads(l) for l in f]\n",
    "    \n",
    "\n",
    "    \n",
    "with open(changed / \"pGraphModuleParticipation\" / \"pre_compute\" / \"graph_modules\", \"r\") as f:\n",
    "    changed_graph_modules = json.load(f)\n",
    "    \n",
    "with open(changed / \"pGraphModuleParticipation\" / \"graphlet_metrics\", \"r\") as f:\n",
    "    f.readline()\n",
    "    changed_pGraphModule = [json.loads(l) for l in f]"
   ]
  },
  {
   "cell_type": "code",
   "execution_count": 4,
   "id": "2bf40b01",
   "metadata": {},
   "outputs": [],
   "source": [
    "assert original_shortest_paths.keys() == changed_shortest_paths.keys(), \"Different shortest path keys\""
   ]
  },
  {
   "cell_type": "code",
   "execution_count": 5,
   "id": "e58e95da",
   "metadata": {},
   "outputs": [],
   "source": [
    "for k in original_shortest_paths:\n",
    "    assert original_shortest_paths[k] == changed_shortest_paths[k], \"Shortest Path difference\""
   ]
  },
  {
   "cell_type": "code",
   "execution_count": 6,
   "id": "1761bf00",
   "metadata": {},
   "outputs": [],
   "source": [
    "assert list(map(str, original_anchor_nodes)) == changed_anchor_nodes, \"Different Anchor Nodes\""
   ]
  },
  {
   "cell_type": "code",
   "execution_count": 7,
   "id": "543b9c2c",
   "metadata": {},
   "outputs": [],
   "source": [
    "assert len(original_graph_modules) == len(changed_graph_modules), \"Differnt number of modules\""
   ]
  },
  {
   "cell_type": "code",
   "execution_count": 8,
   "id": "9f5e5549",
   "metadata": {},
   "outputs": [],
   "source": [
    "for i in range(len(original_graph_modules)):\n",
    "    assert set(original_graph_modules[i]) == set(changed_graph_modules[i]), \"Not same modules\""
   ]
  },
  {
   "cell_type": "code",
   "execution_count": 9,
   "id": "cb4eb37f",
   "metadata": {},
   "outputs": [],
   "source": [
    "for i, metric_dict in enumerate(original_graphlet_metrics):\n",
    "    assert metric_dict[\"degree\"] == changed_pDegree[i], \"Different pDegree\"\n",
    "    assert metric_dict[\"anchor_node_distances\"] == changed_pAnchorNode[i], \"Different pAnchorDistance\"\n",
    "    assert metric_dict[\"graph_module_participation\"] == changed_pGraphModule[i], \"Different pGraphModule\""
   ]
  }
 ],
 "metadata": {
  "kernelspec": {
   "display_name": "masterthesis",
   "language": "python",
   "name": "masterthesis"
  },
  "language_info": {
   "codemirror_mode": {
    "name": "ipython",
    "version": 3
   },
   "file_extension": ".py",
   "mimetype": "text/x-python",
   "name": "python",
   "nbconvert_exporter": "python",
   "pygments_lexer": "ipython3",
   "version": "3.10.6"
  }
 },
 "nbformat": 4,
 "nbformat_minor": 5
}
