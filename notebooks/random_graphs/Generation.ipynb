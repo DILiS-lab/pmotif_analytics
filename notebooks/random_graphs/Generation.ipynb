{
 "cells": [
  {
   "cell_type": "code",
   "execution_count": 3,
   "id": "410cc878",
   "metadata": {},
   "outputs": [],
   "source": [
    "import networkx as nx\n",
    "import pandas as pd\n",
    "import os\n",
    "\n",
    "# from pmotifs.config.config import DATASET_DIRECTORY\n",
    "# from pmotifs.gtrieScanner.graph_io import write_shifted_edgelist\n",
    "\n",
    "\n",
    "NODES = 1000\n",
    "VERSIONS = 5"
   ]
  },
  {
   "cell_type": "code",
   "execution_count": null,
   "id": "58fa1b58",
   "metadata": {},
   "outputs": [],
   "source": [
    "# barabasi_albert_graph\n",
    "for i in range(VERSIONS):\n",
    "    g = nx.barabasi_albert_graph(NODES, m=1)\n",
    "    print(len(g.nodes), len(g.edges))\n",
    "    # write_shifted_edgelist(g, OUT / f\"{i}_barabasi_albert_graph_m_1\")\n",
    "\n",
    "for i in range(VERSIONS):\n",
    "    g = nx.barabasi_albert_graph(NODES, m=2)\n",
    "    print(len(g.nodes), len(g.edges))\n",
    "    # write_shifted_edgelist(g, OUT / f\"{i}_barabasi_albert_graph_m_2\")\n",
    "    \n",
    "for i in range(VERSIONS):\n",
    "    g = nx.barabasi_albert_graph(NODES, m=3)\n",
    "    print(len(g.nodes), len(g.edges))\n",
    "    # write_shifted_edgelist(g, OUT / f\"{i}_barabasi_albert_graph_m_3\")"
   ]
  },
  {
   "cell_type": "code",
   "execution_count": 4,
   "id": "39ca96c7",
   "metadata": {},
   "outputs": [
    {
     "name": "stdout",
     "output_type": "stream",
     "text": [
      "Found\n",
      "1000 2140\n",
      "Found\n",
      "1000 2058\n",
      "Found\n",
      "1000 2056\n",
      "Found\n",
      "1000 2109\n",
      "Found\n",
      "1000 2036\n"
     ]
    }
   ],
   "source": [
    "# erdos_renyi  \n",
    "for i in range(VERSIONS):\n",
    "    max_edges = NODES * (NODES - 1)\n",
    "    target_edges = 2345\n",
    "\n",
    "    p = 0.004\n",
    "\n",
    "    while 1:\n",
    "        g = nx.erdos_renyi_graph(NODES + 10, p)\n",
    "        components = list(nx.connected_components(g))\n",
    "        if len(components) != 1:\n",
    "            largest_component = sorted(zip(components, map(lambda x: len(x), components)))[0][0]\n",
    "            g = nx.induced_subgraph(g, largest_component)\n",
    "\n",
    "        if len(g.nodes) == NODES:\n",
    "            break\n",
    "    # write_shifted_edgelist(g, OUT / f\"{i}_ferdos_renyi_graph_m_2000\")\n",
    "    print(\"Found\")\n",
    "    print(len(g.nodes), len(g.edges))"
   ]
  },
  {
   "cell_type": "code",
   "execution_count": null,
   "id": "202bf00d",
   "metadata": {},
   "outputs": [],
   "source": [
    "2345 / max_edges"
   ]
  },
  {
   "cell_type": "code",
   "execution_count": 6,
   "id": "a21a66b9",
   "metadata": {},
   "outputs": [
    {
     "data": {
      "text/plain": [
       "2321.55"
      ]
     },
     "execution_count": 6,
     "metadata": {},
     "output_type": "execute_result"
    }
   ],
   "source": [
    "target_edges * 0.99"
   ]
  },
  {
   "cell_type": "code",
   "execution_count": 7,
   "id": "6cb01c64",
   "metadata": {},
   "outputs": [
    {
     "data": {
      "text/plain": [
       "2368.45"
      ]
     },
     "execution_count": 7,
     "metadata": {},
     "output_type": "execute_result"
    }
   ],
   "source": [
    "target_edges * 1.01"
   ]
  },
  {
   "cell_type": "code",
   "execution_count": 8,
   "id": "673da263",
   "metadata": {},
   "outputs": [
    {
     "data": {
      "text/plain": [
       "999000"
      ]
     },
     "execution_count": 8,
     "metadata": {},
     "output_type": "execute_result"
    }
   ],
   "source": [
    "max_edges"
   ]
  },
  {
   "cell_type": "code",
   "execution_count": 5,
   "id": "3286def8",
   "metadata": {},
   "outputs": [
    {
     "name": "stdout",
     "output_type": "stream",
     "text": [
      "0.004694694694694695\n",
      "Found\n",
      "1000 2324\n",
      "0.003598778998778998\n",
      "0.004694694694694695\n",
      "Found\n",
      "1000 2364\n",
      "0.004825324675324673\n",
      "0.004694694694694695\n",
      "Found\n",
      "1000 2333\n",
      "0.004108730158730158\n",
      "0.004694694694694695\n",
      "Found\n",
      "1000 2340\n",
      "0.005052430902430901\n",
      "0.004694694694694695\n",
      "Found\n",
      "1000 2344\n",
      "0.005153896103896101\n"
     ]
    }
   ],
   "source": [
    "# erdos_renyi  \n",
    "for i in range(VERSIONS):\n",
    "    max_edges = NODES * (NODES - 1)\n",
    "    target_edges = 2345\n",
    "\n",
    "    p = (2345 / max_edges) * 2\n",
    "    print(p)\n",
    "\n",
    "    while 1:\n",
    "        g = nx.erdos_renyi_graph(NODES + 10, p)\n",
    "        components = list(nx.connected_components(g))\n",
    "        if len(components) != 1:\n",
    "            largest_component = sorted(zip(components, map(lambda x: len(x), components)))[0][0]\n",
    "            g = nx.induced_subgraph(g, largest_component)\n",
    "\n",
    "        if len(g.nodes) == NODES:\n",
    "            if target_edges * 0.99 <= len(g.edges) <= target_edges * 1.01:\n",
    "                break\n",
    "    # write_shifted_edgelist(g, OUT / f\"{i}_ferdos_renyi_graph_m_2000\")\n",
    "    print(\"Found\")\n",
    "    print(len(g.nodes), len(g.edges))\n",
    "    print(nx.average_clustering(g))"
   ]
  },
  {
   "cell_type": "code",
   "execution_count": 10,
   "id": "076dedec",
   "metadata": {},
   "outputs": [
    {
     "name": "stdout",
     "output_type": "stream",
     "text": [
      "0.0023473473473473476\n",
      "1235\n",
      "1224\n",
      "1226\n",
      "1180\n",
      "1263\n",
      "1118\n",
      "1171\n",
      "1215\n",
      "1208\n",
      "1142\n",
      "1225\n",
      "1225\n",
      "1183\n",
      "1212\n",
      "1115\n",
      "1231\n",
      "1169\n",
      "1196\n",
      "1221\n",
      "1189\n",
      "1202\n",
      "1186\n",
      "1151\n",
      "1192\n",
      "1153\n",
      "1193\n",
      "1283\n",
      "1162\n",
      "1148\n",
      "1209\n",
      "1208\n",
      "1229\n"
     ]
    },
    {
     "ename": "KeyboardInterrupt",
     "evalue": "",
     "output_type": "error",
     "traceback": [
      "\u001b[0;31m---------------------------------------------------------------------------\u001b[0m",
      "\u001b[0;31mKeyboardInterrupt\u001b[0m                         Traceback (most recent call last)",
      "Cell \u001b[0;32mIn[10], line 9\u001b[0m\n\u001b[1;32m      6\u001b[0m \u001b[38;5;28mprint\u001b[39m(p)\n\u001b[1;32m      8\u001b[0m \u001b[38;5;28;01mwhile\u001b[39;00m \u001b[38;5;241m1\u001b[39m:\n\u001b[0;32m----> 9\u001b[0m     g \u001b[38;5;241m=\u001b[39m \u001b[43mnx\u001b[49m\u001b[38;5;241;43m.\u001b[39;49m\u001b[43merdos_renyi_graph\u001b[49m\u001b[43m(\u001b[49m\u001b[43mNODES\u001b[49m\u001b[43m \u001b[49m\u001b[38;5;241;43m+\u001b[39;49m\u001b[43m \u001b[49m\u001b[38;5;241;43m10\u001b[39;49m\u001b[43m,\u001b[49m\u001b[43m \u001b[49m\u001b[43mp\u001b[49m\u001b[43m)\u001b[49m\n\u001b[1;32m     10\u001b[0m     \u001b[38;5;28mprint\u001b[39m(\u001b[38;5;28mlen\u001b[39m(g\u001b[38;5;241m.\u001b[39medges))\n",
      "File \u001b[0;32m<class 'networkx.utils.decorators.argmap'> compilation 4:4\u001b[0m, in \u001b[0;36margmap_gnp_random_graph_1\u001b[0;34m(n, p, seed, directed)\u001b[0m\n\u001b[1;32m      2\u001b[0m \u001b[38;5;28;01mimport\u001b[39;00m \u001b[38;5;21;01mcollections\u001b[39;00m\n\u001b[1;32m      3\u001b[0m \u001b[38;5;28;01mimport\u001b[39;00m \u001b[38;5;21;01mgzip\u001b[39;00m\n\u001b[0;32m----> 4\u001b[0m \u001b[38;5;28;01mimport\u001b[39;00m \u001b[38;5;21;01minspect\u001b[39;00m\n\u001b[1;32m      5\u001b[0m \u001b[38;5;28;01mimport\u001b[39;00m \u001b[38;5;21;01mitertools\u001b[39;00m\n\u001b[1;32m      6\u001b[0m \u001b[38;5;28;01mimport\u001b[39;00m \u001b[38;5;21;01mre\u001b[39;00m\n",
      "File \u001b[0;32m~/.local/lib/python3.10/site-packages/networkx/generators/random_graphs.py:164\u001b[0m, in \u001b[0;36mgnp_random_graph\u001b[0;34m(n, p, seed, directed)\u001b[0m\n\u001b[1;32m    161\u001b[0m     \u001b[38;5;28;01mreturn\u001b[39;00m complete_graph(n, create_using\u001b[38;5;241m=\u001b[39mG)\n\u001b[1;32m    163\u001b[0m \u001b[38;5;28;01mfor\u001b[39;00m e \u001b[38;5;129;01min\u001b[39;00m edges:\n\u001b[0;32m--> 164\u001b[0m     \u001b[38;5;28;01mif\u001b[39;00m \u001b[43mseed\u001b[49m\u001b[38;5;241;43m.\u001b[39;49m\u001b[43mrandom\u001b[49m\u001b[43m(\u001b[49m\u001b[43m)\u001b[49m \u001b[38;5;241m<\u001b[39m p:\n\u001b[1;32m    165\u001b[0m         G\u001b[38;5;241m.\u001b[39madd_edge(\u001b[38;5;241m*\u001b[39me)\n\u001b[1;32m    166\u001b[0m \u001b[38;5;28;01mreturn\u001b[39;00m G\n",
      "\u001b[0;31mKeyboardInterrupt\u001b[0m: "
     ]
    }
   ],
   "source": [
    "for i in range(VERSIONS):\n",
    "    max_edges = NODES * (NODES - 1)\n",
    "    target_edges = 2345\n",
    "\n",
    "    p = (2345 / max_edges)\n",
    "    print(p)\n",
    "\n",
    "    while 1:\n",
    "        g = nx.erdos_renyi_graph(NODES + 10, p)\n",
    "        print(len(g.edges))"
   ]
  },
  {
   "cell_type": "code",
   "execution_count": null,
   "id": "5724471a",
   "metadata": {},
   "outputs": [],
   "source": [
    "# Scale Free\n",
    "\n",
    "for i in range(VERSIONS):\n",
    "    g = nx.scale_free_graph(NODES, alpha=0.28, beta=0.7, gamma=0.02)\n",
    "    g = nx.Graph(g)\n",
    "    print(len(g.nodes), len(g.edges))\n",
    "    # write_shifted_edgelist(g, OUT / f\"{i}_scale_free_graph_a_28_b_7_g_02\")\n",
    "    \n",
    "for i in range(VERSIONS):\n",
    "    g = nx.scale_free_graph(NODES, alpha=0.35, beta=0.3, gamma=0.35)\n",
    "    g = nx.Graph(g)\n",
    "    print(len(g.nodes), len(g.edges))\n",
    "    # write_shifted_edgelist(g, OUT / f\"{i}_scale_free_graph_a_35_b_3_g_35\")\n",
    "\n",
    "for i in range(VERSIONS):\n",
    "    g = nx.scale_free_graph(NODES, alpha=0.65, beta=0.1, gamma=0.25)\n",
    "    g = nx.Graph(g)\n",
    "    print(len(g.nodes), len(g.edges))\n",
    "    # write_shifted_edgelist(g, OUT / f\"{i}_scale_free_graph_a_65_b_1_g_25\")\n",
    "    "
   ]
  }
 ],
 "metadata": {
  "kernelspec": {
   "display_name": "Python 3 (ipykernel)",
   "language": "python",
   "name": "python3"
  },
  "language_info": {
   "codemirror_mode": {
    "name": "ipython",
    "version": 3
   },
   "file_extension": ".py",
   "mimetype": "text/x-python",
   "name": "python",
   "nbconvert_exporter": "python",
   "pygments_lexer": "ipython3",
   "version": "3.10.6"
  }
 },
 "nbformat": 4,
 "nbformat_minor": 5
}
