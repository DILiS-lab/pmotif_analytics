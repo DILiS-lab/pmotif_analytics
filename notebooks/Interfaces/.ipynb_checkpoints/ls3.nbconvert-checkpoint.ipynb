{
 "cells": [
  {
   "cell_type": "code",
   "execution_count": null,
   "id": "0a681219",
   "metadata": {},
   "outputs": [],
   "source": [
    "# Loading of Env Vars to enable parameterized command line usage\n",
    "import os\n",
    "\n",
    "GRAPHLET_SIZE = os.environ.get('GRAPHLET_SIZE', 3)\n",
    "DATASET = os.environ.get('DATASET', \"yeastInter_st.txt\")\n",
    "EXPERIMENT_OUT = os.environ.get('EXPERIMENT_OUT', \"yeastInter_st\")\n",
    "METRIC_NAME = os.environ.get('METRIC_NAME', \"degree\")"
   ]
  },
  {
   "cell_type": "code",
   "execution_count": null,
   "id": "13414bd7",
   "metadata": {},
   "outputs": [],
   "source": [
    "from pmotifs.analysis_utilities.metric_consolidation import metrics\n",
    "\n",
    "potential_metrics = metrics.keys()\n",
    "assert METRIC_NAME in potential_metrics"
   ]
  },
  {
   "cell_type": "code",
   "execution_count": null,
   "id": "7cd7de22",
   "metadata": {},
   "outputs": [],
   "source": [
    "from pmotifs.analysis_utilities.loading import Result\n",
    "from pmotifs.config import config\n",
    "\n",
    "r = Result.load_result(\n",
    "    config.DATASET_DIRECTORY /  DATASET,\n",
    "    config.EXPERIMENT_OUT / EXPERIMENT_OUT,\n",
    "    GRAPHLET_SIZE,\n",
    ")\n",
    "\n",
    "g = r.pmotif_graph\n",
    "df = r.positional_metric_df"
   ]
  },
  {
   "cell_type": "code",
   "execution_count": null,
   "id": "db92eacd",
   "metadata": {},
   "outputs": [],
   "source": [
    "graphlet_classes = set(df[\"graphlet_class\"])\n",
    "graphlet_classes"
   ]
  },
  {
   "cell_type": "code",
   "execution_count": null,
   "id": "cdf72d72",
   "metadata": {},
   "outputs": [],
   "source": [
    "from typing import Union\n",
    "\n",
    "from pmotifs.GraphletPositionalMetrics import GraphletPositionalMetrics\n",
    "\n",
    "\n",
    "def get_positional_metric(result: Result) -> Union[int, float]:\n",
    "    \"\"\"A wrapper to consolidate metrics\"\"\"\n",
    "    return metrics[METRIC_NAME](result)"
   ]
  },
  {
   "cell_type": "code",
   "execution_count": null,
   "id": "e2413a08",
   "metadata": {},
   "outputs": [],
   "source": [
    "df[METRIC_NAME] = get_positional_metric(r)"
   ]
  },
  {
   "cell_type": "markdown",
   "id": "c1460190",
   "metadata": {},
   "source": [
    "# Graphlet Occurrence Choice"
   ]
  },
  {
   "cell_type": "code",
   "execution_count": null,
   "id": "09cf92d2",
   "metadata": {},
   "outputs": [],
   "source": [
    "CHOICE = df.iloc[10110][\"nodes\"]\n",
    "CHOICE"
   ]
  },
  {
   "cell_type": "code",
   "execution_count": null,
   "id": "18128720",
   "metadata": {},
   "outputs": [],
   "source": [
    "chosen_occurrence = df[df[\"nodes\"].isin([CHOICE])]\n",
    "assert len(chosen_occurrence) == 1, \"CHOICE does not specify exactly one row!\""
   ]
  },
  {
   "cell_type": "markdown",
   "id": "05b384b4",
   "metadata": {},
   "source": [
    "# Analysis"
   ]
  },
  {
   "cell_type": "code",
   "execution_count": null,
   "id": "3d555019",
   "metadata": {},
   "outputs": [],
   "source": [
    "chosen_occurrence"
   ]
  },
  {
   "cell_type": "code",
   "execution_count": null,
   "id": "e8acb489",
   "metadata": {},
   "outputs": [],
   "source": [
    "metrics = df[METRIC_NAME].astype(float)\n",
    "pivot = float(chosen_occurrence[METRIC_NAME])\n",
    "\n",
    "below = []\n",
    "above = []\n",
    "same_val_count = 0\n",
    "for e in metrics:\n",
    "    if e < pivot:\n",
    "        below.append(e)\n",
    "    elif e > pivot:\n",
    "        above.append(e)\n",
    "    else:\n",
    "        same_val_count += 1\n",
    "\n",
    "total = df.shape[0]\n",
    "below_percent = (len(below) / (total - same_val_count)) * 100\n",
    "above_percent = (len(above) / (total - same_val_count)) * 100\n",
    "print(\n",
    "    f\"{CHOICE} has \" + \n",
    "    f\"higher {METRIC_NAME} than {round(below_percent, 2)}% and \" + \n",
    "    f\"lower {METRIC_NAME} than {round(above_percent, 2)}% of occurrences!\"\n",
    ")"
   ]
  },
  {
   "cell_type": "code",
   "execution_count": null,
   "id": "cbc55bf9",
   "metadata": {},
   "outputs": [],
   "source": [
    "\"\"\"Tukey Method\"\"\"\n",
    "from scipy.stats import iqr\n",
    "from scipy.stats.mstats import mquantiles\n",
    "\n",
    "q1, q2, q3 = mquantiles(metrics)\n",
    "inner_quantile_range = iqr(metrics)\n",
    "\n",
    "lower_outlier_cut = q1 - 1.5 * inner_quantile_range\n",
    "upper_outlier_cut = q3 + 1.5 * inner_quantile_range\n",
    "\n",
    "print(f\"Outliers: x < {lower_outlier_cut}, {upper_outlier_cut} > x\")\n",
    "\n",
    "call = \"\"\n",
    "if pivot < lower_outlier_cut:\n",
    "    call = \"lower\"\n",
    "if pivot > upper_outlier_cut:\n",
    "    call = \"upper\"\n",
    "\n",
    "if call != \"\":\n",
    "    print(f\"{CHOICE}({pivot}) is an {call} outlier!\")"
   ]
  },
  {
   "cell_type": "code",
   "execution_count": null,
   "id": "52094d40",
   "metadata": {},
   "outputs": [],
   "source": [
    "import matplotlib.pyplot as plt\n",
    "\n",
    "from pmotifs.graphlet_representation import graphlet_class_to_name\n",
    "\n",
    "\n",
    "graphlet_class_df = df[df[\"graphlet_class\"] == chosen_occurrence[\"graphlet_class\"].values[0]]\n",
    "fig, ax = plt.subplots(1, 1)\n",
    "bars = graphlet_class_df[METRIC_NAME].plot.hist(bins=len(set(graphlet_class_df[METRIC_NAME])), ax=ax)\n",
    "ax.axvline(\n",
    "    pivot,\n",
    "    label=\"CHOICE\",\n",
    "    color=\"tab:orange\",\n",
    ")\n",
    "\n",
    "ax.legend()\n",
    "ax.set_title(graphlet_class_to_name(chosen_occurrence[\"graphlet_class\"].values[0]))"
   ]
  },
  {
   "cell_type": "code",
   "execution_count": null,
   "id": "649eb379",
   "metadata": {},
   "outputs": [],
   "source": [
    "\"\"\"Prepare Graph Plotting\"\"\"\n",
    "import networkx as nx\n",
    "\n",
    "from pmotifs.analysis_utilities.plotting import get_kamada_kawai_layout\n",
    "\n",
    "\n",
    "pos = get_kamada_kawai_layout(g)\n",
    "nx_g = g.load_graph()"
   ]
  },
  {
   "cell_type": "code",
   "execution_count": null,
   "id": "963496e5",
   "metadata": {},
   "outputs": [],
   "source": [
    "import matplotlib.pyplot as plt\n",
    "\n",
    "from pmotifs.analysis_utilities.plotting import plot_graph_with_motif_highlight\n",
    "\n",
    "\n",
    "fig, ax = plt.subplots(1,1)\n",
    "plot_graph_with_motif_highlight(nx_g, list(chosen_occurrence.nodes), pos, ax)"
   ]
  },
  {
   "cell_type": "code",
   "execution_count": null,
   "id": "3e0a45be",
   "metadata": {},
   "outputs": [],
   "source": [
    "from pmotifs.analysis_utilities.plotting import get_zommed_graph, plot_graph_with_motif_highlight\n",
    "\n",
    "\n",
    "fig, ax = plt.subplots(1,1)\n",
    "plot_graph_with_motif_highlight(\n",
    "    get_zommed_graph(nx_g, chosen_occurrence[\"nodes\"].values[0]),\n",
    "    chosen_occurrence[\"nodes\"].values[0],\n",
    "    pos,\n",
    "    ax,\n",
    ")"
   ]
  }
 ],
 "metadata": {
  "kernelspec": {
   "display_name": "Python 3 (ipykernel)",
   "language": "python",
   "name": "python3"
  },
  "language_info": {
   "codemirror_mode": {
    "name": "ipython",
    "version": 3
   },
   "file_extension": ".py",
   "mimetype": "text/x-python",
   "name": "python",
   "nbconvert_exporter": "python",
   "pygments_lexer": "ipython3",
   "version": "3.10.6"
  }
 },
 "nbformat": 4,
 "nbformat_minor": 5
}
